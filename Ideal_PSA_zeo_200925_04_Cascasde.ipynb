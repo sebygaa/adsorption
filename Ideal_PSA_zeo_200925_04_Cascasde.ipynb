{
  "nbformat": 4,
  "nbformat_minor": 0,
  "metadata": {
    "colab": {
      "name": "Ideal_PSA_zeo_200925_04_Cascasde.ipynb",
      "provenance": [],
      "collapsed_sections": [],
      "authorship_tag": "ABX9TyNwSgosI7z6iNKjTORxhMY0",
      "include_colab_link": true
    },
    "kernelspec": {
      "name": "python3",
      "display_name": "Python 3"
    }
  },
  "cells": [
    {
      "cell_type": "markdown",
      "metadata": {
        "id": "view-in-github",
        "colab_type": "text"
      },
      "source": [
        "<a href=\"https://colab.research.google.com/github/sebygaa/adsorption/blob/master/Ideal_PSA_zeo_200925_04_Cascasde.ipynb\" target=\"_parent\"><img src=\"https://colab.research.google.com/assets/colab-badge.svg\" alt=\"Open In Colab\"/></a>"
      ]
    },
    {
      "cell_type": "markdown",
      "metadata": {
        "id": "iv8DdF3cUD9q",
        "colab_type": "text"
      },
      "source": [
        "# [1] Python Libraries"
      ]
    },
    {
      "cell_type": "code",
      "metadata": {
        "id": "lInAknjBT-eQ",
        "colab_type": "code",
        "colab": {
          "base_uri": "https://localhost:8080/",
          "height": 359
        },
        "outputId": "a3f39b9f-177d-48d0-b0b9-fe652f0d2847"
      },
      "source": [
        "%pip install pyiast"
      ],
      "execution_count": null,
      "outputs": [
        {
          "output_type": "stream",
          "text": [
            "Collecting pyiast\n",
            "  Downloading https://files.pythonhosted.org/packages/a5/32/8e075c817a633eb10b08bbd21f339d6abeeb100aff6fdba43a6947aebd1b/pyiast-1.4.3.tar.gz\n",
            "Requirement already satisfied: numpy in /usr/local/lib/python3.6/dist-packages (from pyiast) (1.18.5)\n",
            "Requirement already satisfied: scipy in /usr/local/lib/python3.6/dist-packages (from pyiast) (1.4.1)\n",
            "Requirement already satisfied: pandas>=0.24.0 in /usr/local/lib/python3.6/dist-packages (from pyiast) (1.0.5)\n",
            "Requirement already satisfied: matplotlib in /usr/local/lib/python3.6/dist-packages (from pyiast) (3.2.2)\n",
            "Requirement already satisfied: python-dateutil>=2.6.1 in /usr/local/lib/python3.6/dist-packages (from pandas>=0.24.0->pyiast) (2.8.1)\n",
            "Requirement already satisfied: pytz>=2017.2 in /usr/local/lib/python3.6/dist-packages (from pandas>=0.24.0->pyiast) (2018.9)\n",
            "Requirement already satisfied: cycler>=0.10 in /usr/local/lib/python3.6/dist-packages (from matplotlib->pyiast) (0.10.0)\n",
            "Requirement already satisfied: kiwisolver>=1.0.1 in /usr/local/lib/python3.6/dist-packages (from matplotlib->pyiast) (1.2.0)\n",
            "Requirement already satisfied: pyparsing!=2.0.4,!=2.1.2,!=2.1.6,>=2.0.1 in /usr/local/lib/python3.6/dist-packages (from matplotlib->pyiast) (2.4.7)\n",
            "Requirement already satisfied: six>=1.5 in /usr/local/lib/python3.6/dist-packages (from python-dateutil>=2.6.1->pandas>=0.24.0->pyiast) (1.15.0)\n",
            "Building wheels for collected packages: pyiast\n",
            "  Building wheel for pyiast (setup.py) ... \u001b[?25l\u001b[?25hdone\n",
            "  Created wheel for pyiast: filename=pyiast-1.4.3-cp36-none-any.whl size=10989 sha256=17c994cce1fe95d69938dbdbdec39c6409d027fa5e930e9112a7d12a7db34b76\n",
            "  Stored in directory: /root/.cache/pip/wheels/fa/b2/0f/5ca307f44b4342b99ae2298244003e59a50bcddc6900681d08\n",
            "Successfully built pyiast\n",
            "Installing collected packages: pyiast\n",
            "Successfully installed pyiast-1.4.3\n"
          ],
          "name": "stdout"
        }
      ]
    },
    {
      "cell_type": "code",
      "metadata": {
        "id": "A09SzdDCUC4G",
        "colab_type": "code",
        "colab": {}
      },
      "source": [
        "import pyiast\n",
        "import pandas as pd\n",
        "import numpy as np\n",
        "import os\n",
        "import matplotlib.pyplot as plt\n",
        "import pickle\n",
        "import time\n",
        "import os\n",
        "import scipy.optimize as optim\n",
        "import matplotlib.pyplot as plt"
      ],
      "execution_count": null,
      "outputs": []
    },
    {
      "cell_type": "markdown",
      "metadata": {
        "id": "K5L60lc3ULPW",
        "colab_type": "text"
      },
      "source": [
        "# [2] Data Importing"
      ]
    },
    {
      "cell_type": "markdown",
      "metadata": {
        "id": "9lJhnGJqZkS3",
        "colab_type": "text"
      },
      "source": [
        "### [2-1] Base path"
      ]
    },
    {
      "cell_type": "code",
      "metadata": {
        "id": "rr0CCSKRULAz",
        "colab_type": "code",
        "colab": {
          "base_uri": "https://localhost:8080/",
          "height": 35
        },
        "outputId": "bb2e1ee1-bb49-452a-c861-e2398d63d681"
      },
      "source": [
        "from google.colab import drive\n",
        "drive.mount('/content/drive')\n",
        "os.chdir('/content/drive/My Drive/Work_in_PNU/Zeo_NG_Screening_01')\n",
        "#/content/drive/My Drive/Work_in_PNU/Data_Zeolite_NG\n",
        "bas_path = os.getcwd()"
      ],
      "execution_count": null,
      "outputs": [
        {
          "output_type": "stream",
          "text": [
            "Mounted at /content/drive\n"
          ],
          "name": "stdout"
        }
      ]
    },
    {
      "cell_type": "code",
      "metadata": {
        "id": "MJwYysLXUp-M",
        "colab_type": "code",
        "colab": {
          "base_uri": "https://localhost:8080/",
          "height": 161
        },
        "outputId": "e010bf31-a6eb-4c7c-ca66-9ed9adcf2fbb"
      },
      "source": [
        "os.listdir()"
      ],
      "execution_count": null,
      "outputs": [
        {
          "output_type": "execute_result",
          "data": {
            "text/plain": [
              "['CO2_case_bins',\n",
              " 'H2S_case_bins',\n",
              " 'Heat_ad_CO2_case.csv',\n",
              " 'Names_CO2_case.csv',\n",
              " 'Heat_ad_H2S_case.csv',\n",
              " 'Names_H2S_case.csv',\n",
              " 'Ideal_PSA_zeo_200910_03.ipynb',\n",
              " 'Multistart_DSLangmuir_ver03.ipynb']"
            ]
          },
          "metadata": {
            "tags": []
          },
          "execution_count": 4
        }
      ]
    },
    {
      "cell_type": "markdown",
      "metadata": {
        "id": "wZ8Vbp-HXt1v",
        "colab_type": "text"
      },
      "source": [
        "### [2-2] File and adsorbent names"
      ]
    },
    {
      "cell_type": "code",
      "metadata": {
        "id": "RDYNwv9LUbqM",
        "colab_type": "code",
        "colab": {
          "base_uri": "https://localhost:8080/",
          "height": 377
        },
        "outputId": "56b98bb2-5f51-4d66-c1f8-423f2d8e449c"
      },
      "source": [
        "#CO2_CASE\n",
        "os.chdir(bas_path)\n",
        "Names_CO2 = np.loadtxt('Names_CO2_case.csv',dtype=str,delimiter='\\n')\n",
        "print(Names_CO2)\n",
        "os.chdir('CO2_case_bins')\n",
        "Names_bin_CO2 = np.sort(np.array(os.listdir()))\n",
        "print(Names_bin_CO2)\n",
        "## BACK TO BASE\n",
        "os.chdir(bas_path)"
      ],
      "execution_count": null,
      "outputs": [
        {
          "output_type": "stream",
          "text": [
            "['ABW-0' 'ABW-1' 'AEN-0' 'AEN-1' 'AFI-0' 'AFI-1' 'APC-1' 'AWW-0' 'BIK-0'\n",
            " 'BIK-1' 'CFI-1' 'CHI-0' 'IFO-0' 'IFO-1' 'IRR-0' 'ITG' 'ITH-1' 'ITR-1'\n",
            " 'ITW-1' 'IWS-0' 'IWS-1' 'JBW-0' 'LEV-0' 'LEV-1' 'LEV-2' 'MON-0' 'MON-1'\n",
            " 'NAB-0' 'NAT-0' 'NPO-0' 'PAR-0' 'PAR-1' 'RRO-0' 'RRO-1' 'RTE-0' 'RTE-1'\n",
            " 'SAO-0' 'SAO-1' 'SAS-0' 'SAS-1' 'SOS-0' 'VSV-0' 'WEI-0' 'YUG-0' 'YUG-1']\n",
            "['iso_ABW_0_saved.bin' 'iso_ABW_1_saved.bin' 'iso_AEN_0_saved.bin'\n",
            " 'iso_AEN_1_saved.bin' 'iso_AFI_0_saved.bin' 'iso_AFI_1_saved.bin'\n",
            " 'iso_APC_1_saved.bin' 'iso_AWW_0_saved.bin' 'iso_BIK_0_saved.bin'\n",
            " 'iso_BIK_1_saved.bin' 'iso_CFI_1_saved.bin' 'iso_CHI_0_saved.bin'\n",
            " 'iso_IFO_0_saved.bin' 'iso_IFO_1_saved.bin' 'iso_IRR_0_saved.bin'\n",
            " 'iso_ITG_saved.bin' 'iso_ITH_1_saved.bin' 'iso_ITR_1_saved.bin'\n",
            " 'iso_ITW_1_saved.bin' 'iso_IWS_0_saved.bin' 'iso_IWS_1_saved.bin'\n",
            " 'iso_JBW_0_saved.bin' 'iso_LEV_0_saved.bin' 'iso_LEV_1_saved.bin'\n",
            " 'iso_LEV_2_saved.bin' 'iso_MON_0_saved.bin' 'iso_MON_1_saved.bin'\n",
            " 'iso_NAB_0_saved.bin' 'iso_NAT_0_saved.bin' 'iso_NPO_0_saved.bin'\n",
            " 'iso_PAR_0_saved.bin' 'iso_PAR_1_saved.bin' 'iso_RRO_0_saved.bin'\n",
            " 'iso_RRO_1_saved.bin' 'iso_RTE_0_saved.bin' 'iso_RTE_1_saved.bin'\n",
            " 'iso_SAO_0_saved.bin' 'iso_SAO_1_saved.bin' 'iso_SAS_0_saved.bin'\n",
            " 'iso_SAS_1_saved.bin' 'iso_SOS_0_saved.bin' 'iso_VSV_0_saved.bin'\n",
            " 'iso_WEI_0_saved.bin' 'iso_YUG_0_saved.bin' 'iso_YUG_1_saved.bin']\n"
          ],
          "name": "stdout"
        }
      ]
    },
    {
      "cell_type": "code",
      "metadata": {
        "id": "EUCGfdOpVhBw",
        "colab_type": "code",
        "colab": {
          "base_uri": "https://localhost:8080/",
          "height": 431
        },
        "outputId": "df6862b0-4bb3-45d6-d0d8-473d5070688e"
      },
      "source": [
        "#H2S_CASE\n",
        "os.chdir(bas_path)\n",
        "Names_H2S = np.loadtxt('Names_H2S_case.csv',dtype=str,delimiter='\\n')\n",
        "print(Names_H2S)\n",
        "os.chdir('H2S_case_bins')\n",
        "Names_bin_H2S = np.sort(np.array(os.listdir()))\n",
        "print(Names_bin_H2S)\n",
        "#f_tmp = open('iso_JBW-0_saved.bin','rb')\n",
        "## BACK TO BASE\n",
        "os.chdir(bas_path)"
      ],
      "execution_count": null,
      "outputs": [
        {
          "output_type": "stream",
          "text": [
            "['ABW-0' 'ABW-1' 'ACO-0' 'AEN-0' 'AEN-1' 'APC-0' 'APC-1' 'APC-2' 'ATV-1'\n",
            " 'BIK-0' 'BIK-1' 'CAN-0' 'CAN-1' 'CHI-0' 'CZP-0' 'ETL' 'GOO-0' 'GOO-1'\n",
            " 'IRN' 'ITH-1' 'ITW-0' 'ITW-1' 'JBW-0' 'LTJ-0' 'LTJ-1' 'MER-1' 'MON-0'\n",
            " 'MON-1' 'MRT' 'NAB-0' 'NAT-0' 'NPO-0' 'NSI-0' 'PAR-0' 'PAR-1' 'PAU-0'\n",
            " 'PHI-0' 'RHO-1' 'RRO-0' 'RRO-1' 'RTH-1' 'RWR-0' 'RWR-1' 'SFO-0' 'SOS-0'\n",
            " 'VNI-0' 'VSV-0' 'WEI-0' 'YUG-0' 'YUG-1']\n",
            "['iso_ABW_0_saved.bin' 'iso_ABW_1_saved.bin' 'iso_ACO_0_saved.bin'\n",
            " 'iso_AEN_0_saved.bin' 'iso_AEN_1_saved.bin' 'iso_APC_0_saved.bin'\n",
            " 'iso_APC_1_saved.bin' 'iso_APC_2_saved.bin' 'iso_ATV_1_saved.bin'\n",
            " 'iso_BIK_0_saved.bin' 'iso_BIK_1_saved.bin' 'iso_CAN_0_saved.bin'\n",
            " 'iso_CAN_1_saved.bin' 'iso_CHI_0_saved.bin' 'iso_CZP_0_saved.bin'\n",
            " 'iso_ETL_saved.bin' 'iso_GOO_0_saved.bin' 'iso_GOO_1_saved.bin'\n",
            " 'iso_IRN_saved.bin' 'iso_ITH_1_saved.bin' 'iso_ITW_0_saved.bin'\n",
            " 'iso_ITW_1_saved.bin' 'iso_JBW_0_saved.bin' 'iso_LTJ_0_saved.bin'\n",
            " 'iso_LTJ_1_saved.bin' 'iso_MER_1_saved.bin' 'iso_MON_0_saved.bin'\n",
            " 'iso_MON_1_saved.bin' 'iso_MRT_saved.bin' 'iso_NAB_0_saved.bin'\n",
            " 'iso_NAT_0_saved.bin' 'iso_NPO_0_saved.bin' 'iso_NSI_0_saved.bin'\n",
            " 'iso_PAR_0_saved.bin' 'iso_PAR_1_saved.bin' 'iso_PAU_0_saved.bin'\n",
            " 'iso_PHI_0_saved.bin' 'iso_RHO_1_saved.bin' 'iso_RRO_0_saved.bin'\n",
            " 'iso_RRO_1_saved.bin' 'iso_RTH_1_saved.bin' 'iso_RWR_0_saved.bin'\n",
            " 'iso_RWR_1_saved.bin' 'iso_SFO_0_saved.bin' 'iso_SOS_0_saved.bin'\n",
            " 'iso_VNI_0_saved.bin' 'iso_VSV_0_saved.bin' 'iso_WEI_0_saved.bin'\n",
            " 'iso_YUG_0_saved.bin' 'iso_YUG_1_saved.bin']\n"
          ],
          "name": "stdout"
        }
      ]
    },
    {
      "cell_type": "markdown",
      "metadata": {
        "id": "ygRj8qu9X6YY",
        "colab_type": "text"
      },
      "source": [
        "### [2-3] Load the \"isotherm\" data"
      ]
    },
    {
      "cell_type": "code",
      "metadata": {
        "id": "aZ2e07YLX544",
        "colab_type": "code",
        "colab": {}
      },
      "source": [
        "## CO2 case [Each list correspondes to [H2S, CO2, CH4]]\n",
        "os.chdir(bas_path)\n",
        "os.chdir('CO2_case_bins')\n",
        "bins_CO2 = []\n",
        "for nam in Names_bin_CO2:\n",
        "    f_tmp = open(nam,'rb')\n",
        "    bin_tmp = pickle.load(f_tmp)\n",
        "    bins_CO2.append(bin_tmp)\n",
        "    f_tmp.close()\n",
        "#print(bins_CO2) # All the isotherm files selected by Jaehoon"
      ],
      "execution_count": null,
      "outputs": []
    },
    {
      "cell_type": "code",
      "metadata": {
        "id": "QlwRUR7OZD6Z",
        "colab_type": "code",
        "colab": {}
      },
      "source": [
        "## H2S case [Each list correspondes to [H2S, CO2, CH4]]\n",
        "os.chdir(bas_path)\n",
        "os.chdir('H2S_case_bins')\n",
        "bins_H2S = []\n",
        "for nam in Names_bin_H2S:\n",
        "    f_tmp = open(nam,'rb')\n",
        "    bin_tmp = pickle.load(f_tmp)\n",
        "    bins_H2S.append(bin_tmp)\n",
        "    f_tmp.close()\n",
        "#print(bins_H2S) # All the isotherm files selected by Jaehoon"
      ],
      "execution_count": null,
      "outputs": []
    },
    {
      "cell_type": "markdown",
      "metadata": {
        "id": "3yMESlH6dtrZ",
        "colab_type": "text"
      },
      "source": [
        "### [2-4] Load the \"heat of adsoroption\" data"
      ]
    },
    {
      "cell_type": "code",
      "metadata": {
        "id": "Nvb3Pmwed0wQ",
        "colab_type": "code",
        "colab": {}
      },
      "source": [
        "os.chdir(bas_path)\n",
        "dH_CO2 = np.loadtxt('Heat_ad_CO2_case.csv', delimiter =',') # [ CH4, H2S, CO2, C2H6 ]\n",
        "dH_H2S = np.loadtxt('Heat_ad_H2S_case.csv', delimiter =',') # [ CH4, H2S, CO2, C2H6 ]"
      ],
      "execution_count": null,
      "outputs": []
    },
    {
      "cell_type": "markdown",
      "metadata": {
        "id": "NdxPRiZiZn3o",
        "colab_type": "text"
      },
      "source": [
        "# [3] Mixture Isotherm Function"
      ]
    },
    {
      "cell_type": "code",
      "metadata": {
        "id": "LIHFw_qbZhqo",
        "colab_type": "code",
        "colab": {}
      },
      "source": [
        "Arrh = lambda T,dH ,T_ref: np.exp(dH/8.3145*(1/T - 1/T_ref)) # Arrhenius equation (Clasius-Clapeyron Equation)\n",
        "\n",
        "### Isothermal mixture isotherm\n",
        "def iso_mix(P_par, T, iso_list, dH_list,Tref_list):\n",
        "    P_norm = []\n",
        "    for (p,dh,tref) in zip(P_par, dH_list,Tref_list):\n",
        "        p_n = Arrh(T,dh,tref)*p\n",
        "        P_norm.append(p_n)\n",
        "    P_norm_arr = np.array(P_norm)\n",
        "    #print(P_norm_mat.T)m\n",
        "    if P_norm_arr.ndim > 1:\n",
        "        for i in range(len(P_norm[0])):\n",
        "            p_tmp = P_norm_arr[i,:]\n",
        "            p_tmp[p_tmp<0.001] = 0.001\n",
        "            q_IAST_tmp = pyiast.iast(p_tmp,\n",
        "                            iso_list,\n",
        "                            warningoff=True)\n",
        "    else:\n",
        "        p_tmp = P_norm_arr\n",
        "        p_tmp[p_tmp<0.001] = 0.001\n",
        "        q_IAST_tmp = pyiast.iast(p_tmp,\n",
        "                                 iso_list,\n",
        "                                 warningoff=True)\n",
        "        \n",
        "    return q_IAST_tmp"
      ],
      "execution_count": null,
      "outputs": []
    },
    {
      "cell_type": "markdown",
      "metadata": {
        "id": "0V8JXqO2bHl4",
        "colab_type": "text"
      },
      "source": [
        "# [4] Ideal PSA Function"
      ]
    },
    {
      "cell_type": "markdown",
      "metadata": {
        "id": "aXTHOzDXjH67",
        "colab_type": "text"
      },
      "source": [
        "### [4-1] Saturation fraction"
      ]
    },
    {
      "cell_type": "code",
      "metadata": {
        "id": "WnF5nO-5s_VM",
        "colab_type": "code",
        "colab": {}
      },
      "source": [
        "def sat_fraction(y_lead,q_lead_array, y_follow,q_follow_array):\n",
        "    q_sat_lead_part, q_sat_lead_tot, q_des_lead = q_lead_array\n",
        "    q_sat_fo, q_des_fo = q_follow_array\n",
        "    numo = y_follow*(q_sat_lead_part - q_des_lead)+y_lead*q_des_fo\n",
        "    denom = y_follow*(q_sat_lead_part - q_sat_lead_tot)+y_lead*q_sat_fo\n",
        "    sat_frac = numo/denom\n",
        "    return sat_frac"
      ],
      "execution_count": null,
      "outputs": []
    },
    {
      "cell_type": "markdown",
      "metadata": {
        "id": "cEFut8PpjMjf",
        "colab_type": "text"
      },
      "source": [
        "### [4-2] Purity function at exhaust gas"
      ]
    },
    {
      "cell_type": "code",
      "metadata": {
        "id": "45kQ2CU0ZBHt",
        "colab_type": "code",
        "colab": {}
      },
      "source": [
        "def x2x(x_ini,P_high,P_low,\n",
        "        iso_input, dH_input, Tref_input, \n",
        "        yfeed,Tfeed):\n",
        "    iso_1 = iso_input[2] # CH4\n",
        "    iso_2 = iso_input[0] # H2S\n",
        "    iso_3 = iso_input[1] # CO2\n",
        "    iso  = [iso_1,iso_2,iso_3]\n",
        "    dH_1, dH_2, dH_3 = dH_input[:3]         # (kJ/mol): Heat of adsorption\n",
        "    dH = np.array([dH_1,dH_2,dH_3])*1000    # (J/mol): Heat of adsorption \n",
        "    P_low_part = np.array(x_ini)*P_low      # (bar): partial pressure\n",
        "    P_high_part = np.array(yfeed)*P_high    # (bar): partial pressure\n",
        "    ### Uptakes\n",
        "    q_des = iso_mix(P_low_part,Tfeed,iso,\n",
        "                    dH_input,Tref_input)\n",
        "    q_sat_tot = iso_mix(P_high_part,Tfeed,iso,\n",
        "                        dH_input,Tref_input)\n",
        "    Dq_tot = q_sat_tot-q_des\n",
        "    ### Leading component ?\n",
        "    sat_extent = np.array(yfeed)/Dq_tot # Saturation extent kg/mol\n",
        "    ind_lead_tot = np.argmax(sat_extent)\n",
        "    sat_ext_raff = sat_extent[0]\n",
        "    sat_extent[0] = -10000\n",
        "    ind_lead = np.argmax(sat_extent)\n",
        "\n",
        "    if ind_lead > 1.95:\n",
        "        ## CO2 leading case [index = 2]\n",
        "        yfeed_CO2 = np.array([yfeed[0], yfeed[2]])/(yfeed[0]+yfeed[2])\n",
        "        P_CO2_part= P_h * yfeed_CO2 # (bar): partial pressure\n",
        "        q_sat_CO2 = iso_mix(P_CO2_part,Tfeed,[iso[0],iso[2]],\n",
        "                            [dH[0],dH[2]],[Tref_input[0],Tref_input[2]])\n",
        "        q_sat_CO2 = np.array([q_sat_CO2[0],0, q_sat_CO2[1]])\n",
        "        q_lead_pack = [q_sat_CO2[2], q_sat_tot[2], q_des[2]] # CO2 uptakes\n",
        "        q_follow_pack = [q_sat_tot[1], q_des[1]]\n",
        "        s_H2S = sat_fraction(yfeed[2],q_lead_pack,yfeed[1],q_follow_pack)\n",
        "        q_bar_sat = s_H2S*q_sat_tot + (1-s_H2S)*q_sat_CO2\n",
        "        s = s_H2S\n",
        "        s_out = np.array([1,s,1])\n",
        "        leading_heavy_key = 2\n",
        "\n",
        "    else:\n",
        "        ## H2S leading case [index = 1]\n",
        "        yfeed_H2S = np.array([yfeed[0], yfeed[1]])/(yfeed[0]+yfeed[1])\n",
        "        P_H2S_part= P_h * yfeed_H2S # (bar): partial pressure\n",
        "        q_sat_H2S = iso_mix(P_H2S_part,Tfeed,[iso[0],iso[1]],\n",
        "                            [dH[0],dH[1]],[Tref_input[0],Tref_input[1]])\n",
        "        q_sat_H2S = np.array([q_sat_H2S[0],q_sat_H2S[1],0])\n",
        "        q_lead_pack = [q_sat_H2S[1],q_sat_tot[1],q_des[1]]\n",
        "        q_follow_pack = [q_sat_tot[2],q_des[2]]\n",
        "        s_CO2 = sat_fraction(yfeed[1],q_lead_pack,yfeed[2],q_follow_pack)\n",
        "        q_bar_sat = s_CO2*q_sat_tot + (1-s_CO2)*q_sat_H2S\n",
        "        s = s_CO2\n",
        "        s_out = np.array([1,1,s])\n",
        "        leading_heavy_key = 1\n",
        "    Dq_exhaust = q_bar_sat - q_des\n",
        "    x_out = np.array(Dq_exhaust)/np.sum(Dq_exhaust)\n",
        "    \n",
        "    sat_extent[0] = sat_ext_raff \n",
        "    return x_out,s_out,ind_lead_tot\n",
        "\n",
        "## TEST\n",
        "x_guess = [0.8,0.1,0.1]\n",
        "y_feed_in = [0.8,0.15,0.05]\n",
        "P_h = 10\n",
        "P_l = 0.5\n",
        "T_tri = [298,]*3\n",
        "res_test = x2x(x_guess, P_h,P_l,\n",
        "               bins_CO2[0], dH_CO2[0,:], T_tri,\n",
        "               y_feed_in, 298)\n",
        "x_test = res_test[-1]\n",
        "#print(x_test[1]/x_test[])"
      ],
      "execution_count": null,
      "outputs": []
    },
    {
      "cell_type": "markdown",
      "metadata": {
        "id": "CSlRh3N78Rqo",
        "colab_type": "text"
      },
      "source": [
        "# [5] Energy Consumptions"
      ]
    },
    {
      "cell_type": "markdown",
      "metadata": {
        "id": "rz1SGMz9Mmgp",
        "colab_type": "text"
      },
      "source": [
        "## [5-1] Single train"
      ]
    },
    {
      "cell_type": "code",
      "metadata": {
        "id": "FIg0URLU8Rfo",
        "colab_type": "code",
        "colab": {
          "base_uri": "https://localhost:8080/",
          "height": 283
        },
        "outputId": "35164504-4dba-48f5-c670-dcbc6b4a8310"
      },
      "source": [
        "gamma = 1.4\n",
        "#eta_ef = 0.8\n",
        "def E_per_ndot(P_h, P_l,T_in,eta_eff):\n",
        "    P_ratio_term = (P_h/P_l)**((gamma-1)/gamma)-1\n",
        "    E_comp = (gamma)/(gamma-1)*(8.3145*T_in/eta_eff)*P_ratio_term\n",
        "    return E_comp\n",
        "Ph_ran = np.linspace(5,10, 101)\n",
        "E_res = []\n",
        "for ph in Ph_ran:\n",
        "    E_tmp = E_per_ndot(ph,1,298.15, 0.8)\n",
        "    E_res.append(E_tmp)\n",
        "plt.plot(Ph_ran, np.array(E_res))\n"
      ],
      "execution_count": null,
      "outputs": [
        {
          "output_type": "execute_result",
          "data": {
            "text/plain": [
              "[<matplotlib.lines.Line2D at 0x7f607d26e6d8>]"
            ]
          },
          "metadata": {
            "tags": []
          },
          "execution_count": 13
        },
        {
          "output_type": "display_data",
          "data": {
            "image/png": "[encoded data removed]",
            "text/plain": [
              "<Figure size 432x288 with 1 Axes>"
            ]
          },
          "metadata": {
            "tags": [],
            "needs_background": "light"
          }
        }
      ]
    },
    {
      "cell_type": "markdown",
      "metadata": {
        "id": "c2IPzJTuMpws",
        "colab_type": "text"
      },
      "source": [
        "## [5-2] Double train (Cascade)"
      ]
    },
    {
      "cell_type": "code",
      "metadata": {
        "id": "A_Ah9aYsMjx6",
        "colab_type": "code",
        "colab": {}
      },
      "source": [
        "def E_per_ndot2(Ph1,Ph2,Pf,Pl,R1,R2,yH2S,xH2S,yCH4,xCH4,T_input,eta1,eta2):\n",
        "    E1 = E_per_ndot(Ph1,Pf,T_input,eta1)\n",
        "    E2 = E_per_ndot(Ph2,Pl,T_input,eta2)\n",
        "    numo = E1+E2*yH2S/xH2S\n",
        "    denom = R1*yCH4+R2*yH2S/xH2S*xCH4\n",
        "    E_tot_over_ndot_CH4 = numo/ denom\n",
        "    return E_tot_over_ndot_CH4    "
      ],
      "execution_count": null,
      "outputs": []
    },
    {
      "cell_type": "markdown",
      "metadata": {
        "id": "7523h39e58Vi",
        "colab_type": "text"
      },
      "source": [
        "#[5-3] recNx(): Recovery and purity function"
      ]
    },
    {
      "cell_type": "code",
      "metadata": {
        "id": "axdklFzj58xX",
        "colab_type": "code",
        "colab": {
          "base_uri": "https://localhost:8080/",
          "height": 53
        },
        "outputId": "564c4447-d7b7-4ac9-fe60-217409456703"
      },
      "source": [
        "def recNx(x_ini,P_high,P_low,\n",
        "        iso_input, dH_input, Tref_input, \n",
        "        yfeed,Tfeed):\n",
        "    \n",
        "#    x_exh, s_f,i_lead = x2x(x_ini,P_high,P_low,\n",
        "#                            iso_input, dH_input, Tref_input, \n",
        "#                            yfeed,Tfeed)\n",
        "    def x_obj(x_in):\n",
        "        x_exh, s_f,i_lead = x2x(x_in,P_high,P_low,\n",
        "                                iso_input,dH_input,Tref_input,\n",
        "                                yfeed,Tfeed)\n",
        "        return (x_exh-x_in)**2*100\n",
        "    x00 = x_ini\n",
        "    solx = optim.least_squares(x_obj,x00,bounds= (0,1))\n",
        "    x_exh = solx.x\n",
        "    x_exh, s_f,i_lead = x2x(x_exh,P_high,P_low,\n",
        "                            iso_input,dH_input,Tref_input,\n",
        "                            yfeed,Tfeed)\n",
        "    \n",
        "    #for i in range(10):\n",
        "    #    x_exh, s_f,i_lead = x2x(x_exh,P_high,P_low,\n",
        "    #                            iso_input, dH_input, Tref_input, \n",
        "    #                            yfeed,Tfeed)\n",
        "    if i_lead == 0:\n",
        "        if x_exh[1]>x_exh[2]:\n",
        "            y_hvy = yfeed[1]\n",
        "            x_hvy = x_exh[1]\n",
        "        else:\n",
        "            y_hvy = yfeed[2]\n",
        "            x_hvy = x_exh[2]\n",
        "        rec = (1-y_hvy/yfeed[0]*x_exh[0]/x_hvy)*100\n",
        "        return rec,x_exh\n",
        "    else:\n",
        "        return 0,0\n",
        "\n",
        "### TEST\n",
        "x_guess = [0.8,0.1,0.1]\n",
        "y_feed_in = [0.8,0.05,0.15]\n",
        "T_feed_in = 317 ## \n",
        "P_h = 10\n",
        "P_l = 0.2\n",
        "T_tri = [298,]*3\n",
        "rec_tmp, x_tmp = recNx(x_guess,P_h,P_l,\n",
        "                       bins_CO2[1],dH_CO2[1], T_tri,\n",
        "                       y_feed_in, T_feed_in)\n",
        "print(x_tmp)\n",
        "print(x2x(x_tmp,P_h,P_l,\n",
        "          bins_CO2[1],dH_CO2[1], T_tri,\n",
        "          y_feed_in, T_feed_in)[0])\n",
        "\n",
        "    "
      ],
      "execution_count": null,
      "outputs": [
        {
          "output_type": "stream",
          "text": [
            "[0.3257406  0.16856485 0.50569455]\n",
            "[0.32573841 0.1685654  0.50569619]\n"
          ],
          "name": "stdout"
        }
      ]
    },
    {
      "cell_type": "markdown",
      "metadata": {
        "id": "SN3ox-kz8J4x",
        "colab_type": "text"
      },
      "source": [
        "# [6] Dual PSA "
      ]
    },
    {
      "cell_type": "markdown",
      "metadata": {
        "id": "BJm70tfOiMez",
        "colab_type": "text"
      },
      "source": [
        "## [6-1] PSA2(): Cascase dual PSA process recovery and energy"
      ]
    },
    {
      "cell_type": "code",
      "metadata": {
        "id": "sE6IQPPb8EbQ",
        "colab_type": "code",
        "colab": {
          "base_uri": "https://localhost:8080/",
          "height": 53
        },
        "outputId": "8aa76f53-d2d4-4be5-aa38-eeec83045be6"
      },
      "source": [
        "x_gu = [0.8,0.1,0.1] \n",
        "#x2x(x_guess,P_high,P_low,iso_input, dH_input,Tref_input,yfeed,Tfeed)\n",
        "def PSA2(P_high1,P_high2, P_low,P_feed,iso_input, dH_input,Tref_input, yfeed, Tfeed):\n",
        "#    xtmp, stmp, indtmp = x2x(P_high, P_low,P_feed,iso_input, dH_input,Tref_input, yfeed, Tfeed)\n",
        "    Rec1,x_ex1=recNx(x_gu,P_high1,P_low,\n",
        "                     iso_input,dH_input, Tref_input,\n",
        "                     yfeed,Tfeed)\n",
        "    Rec2,x_ex2=recNx(x_gu,P_high2,P_low,\n",
        "                     iso_input,dH_input, Tref_input,\n",
        "                     x_ex1,Tfeed)\n",
        "    eta1_in = 0.8\n",
        "    eta2_in = 0.8\n",
        "    if Rec1 > 0 and Rec2 >0:\n",
        "        E_per_CH4 = E_per_ndot2(P_high1,P_high2,P_feed,P_low,\n",
        "                                Rec1,Rec2,yfeed[1],x_ex1[1],yfeed[0],x_ex1[0],Tfeed,eta1_in,eta2_in)\n",
        "        Rec_tot = Rec1 + (100-Rec1)*Rec2/100\n",
        "    else:\n",
        "        return 0,0\n",
        "    return E_per_CH4, Rec_tot\n",
        "\n",
        "### TEST ###\n",
        "Ph1_tmp = 5\n",
        "Ph2_tmp = 5\n",
        "Pl_tmp  = 1\n",
        "Pf_tmp  = 1\n",
        "isot_tmp = bins_CO2[0]\n",
        "dh_tmp = dH_CO2[0]\n",
        "T_tri\n",
        "E_tmp =PSA2(Ph1_tmp,Ph2_tmp,Pl_tmp,Pf_tmp, isot_tmp,dh_tmp,\n",
        "            T_tri,[0.7,0.1,0.2],298.15)\n",
        "print('Consumed energy =  {0:.3f} J/mol'.format(E_tmp[0]))\n",
        "print('Overal recovery =  {0:.3f} %'.format(E_tmp[1]))"
      ],
      "execution_count": null,
      "outputs": [
        {
          "output_type": "stream",
          "text": [
            "Consumed energy =  232.374 J/mol\n",
            "Overal recovery =  66.526 %\n"
          ],
          "name": "stdout"
        }
      ]
    },
    {
      "cell_type": "code",
      "metadata": {
        "id": "gbqhzcuo8EHw",
        "colab_type": "code",
        "colab": {}
      },
      "source": [
        "Ph1_arr = np.linspace(4.5,14.5, 21)\n",
        "Ph2_arr = np.linspace(4.5,14.5, 21)\n",
        "E_res_arr = np.zeros([len(Ph1_arr),len(Ph2_arr)])\n",
        "Rec_res_arr = np.zeros([len(Ph1_arr),len(Ph2_arr)])\n",
        "Ph2_crt = np.zeros(len(Ph1_arr))\n",
        "c1 = 0\n",
        "for p1 in Ph1_arr:\n",
        "    c2 = 0\n",
        "    swc = 1\n",
        "    for p2 in Ph2_arr:\n",
        "        E_tmp,Rec_tmp =PSA2(p1,p2,Pl_tmp,Pf_tmp, isot_tmp,dh_tmp,\n",
        "                            T_tri,[0.7,0.1,0.2],298.15)\n",
        "        E_res_arr[c1,c2] = E_tmp\n",
        "        Rec_res_arr[c1,c2] = Rec_tmp\n",
        "        if Rec_tmp > 70 and swc > 0.8:\n",
        "            swc = 0\n",
        "            Ph2_crt[c2] = Ph2_arr[c2]\n",
        "        c2 = c2 +1\n",
        "    c1=c1+1\n",
        " "
      ],
      "execution_count": null,
      "outputs": []
    },
    {
      "cell_type": "markdown",
      "metadata": {
        "id": "3gtDOZ19iHf9",
        "colab_type": "text"
      },
      "source": [
        "## [6-2] Recfind(): Find (recovery=70%)"
      ]
    },
    {
      "cell_type": "code",
      "metadata": {
        "id": "_jJhMH-nOYIi",
        "colab_type": "code",
        "colab": {}
      },
      "source": [
        "def Recfind(Ph1,Ph2_0):\n",
        "    def Rec_err(Ph2):\n",
        "        E_tmp, Rec_tmp = PSA2(Ph1,Ph2,Pl_tmp,Pf_tmp, isot_tmp,dh_tmp,\n",
        "                              T_tri,[0.7,0.1,0.2],298.15)\n",
        "        return (Rec_tmp - 70)**2\n",
        "    #sol = optim.least_squares(Rec_err,Ph2_0,bounds=(Ph2_0-1, Ph2_0+1))\n",
        "    sol = optim.least_squares(Rec_err,Ph2_0)\n",
        "    #E_tmp, Rec_tmp = PSA2(Ph1,sol.x,Pl_tmp,Pf_tmp, isot_tmp,dh_tmp,\n",
        "    #                      T_tri,[0.7,0.1,0.2],298.15)\n",
        "    return sol.x\n",
        "\n",
        "\n",
        "p1_list = []\n",
        "p2_list = []\n",
        "c2 = 0\n",
        "for p1 in Ph1_arr:\n",
        "    if Ph2_crt[c2] > +0.1:\n",
        "        p2_found = Recfind(p1, Ph2_crt[c2])\n",
        "        p1_list.append(Ph1_arr[c2])\n",
        "        p2_list.append(p2_found)\n",
        "    c2 = c2+1\n"
      ],
      "execution_count": null,
      "outputs": []
    },
    {
      "cell_type": "code",
      "metadata": {
        "id": "7Cmdtu8nTV2x",
        "colab_type": "code",
        "colab": {}
      },
      "source": [
        "p2_arr = np.array(p2_list)\n",
        "p2_sort = np.array(p2_list)[p2_arr[:,0] > 2]\n",
        "p1_sort = np.array(p1_list)[p2_arr[:,0] > 2]"
      ],
      "execution_count": null,
      "outputs": []
    },
    {
      "cell_type": "code",
      "metadata": {
        "id": "WiKMrYhnS7OH",
        "colab_type": "code",
        "colab": {
          "base_uri": "https://localhost:8080/",
          "height": 283
        },
        "outputId": "0ca6bd38-6aa3-4115-e709-40306c5feb9e"
      },
      "source": [
        "plt.plot(p1_sort, p2_sort)"
      ],
      "execution_count": null,
      "outputs": [
        {
          "output_type": "execute_result",
          "data": {
            "text/plain": [
              "[<matplotlib.lines.Line2D at 0x7f606f63d400>]"
            ]
          },
          "metadata": {
            "tags": []
          },
          "execution_count": 167
        },
        {
          "output_type": "display_data",
          "data": {
            "image/png": "[encoded data removed]",
            "text/plain": [
              "<Figure size 432x288 with 1 Axes>"
            ]
          },
          "metadata": {
            "tags": [],
            "needs_background": "light"
          }
        }
      ]
    },
    {
      "cell_type": "markdown",
      "metadata": {
        "id": "Bto8cOIuigpQ",
        "colab_type": "text"
      },
      "source": [
        "## [6-3] Contour: Energy Consumption"
      ]
    },
    {
      "cell_type": "code",
      "metadata": {
        "id": "RVEPD6qCIu_5",
        "colab_type": "code",
        "colab": {
          "base_uri": "https://localhost:8080/",
          "height": 415
        },
        "outputId": "593d0f79-574f-447e-8940-ad6e7c34258b"
      },
      "source": [
        "fig1,ax1 = plt.subplots(figsize = [7.5,6])\n",
        "ctr1 = ax1.contourf(Ph1_arr,Ph2_arr,E_res_arr,levels = 25,cmap=\"RdBu_r\")\n",
        "fig1.colorbar(ctr1,ax=ax1)\n",
        "ax1.plot(p1_sort, p2_sort,'b-.',lw = 2.8 )\n",
        "ax1.text(6.5,7.4,'Recovery = 70%',\n",
        "         fontdict = {'size':12,'color': 'blue','weight':'bold'})\n",
        "ax1.set_xlabel('$1_{st}$ PSA pressure ($P_{h,1}$)',fontsize = 13)\n",
        "ax1.set_ylabel('$2_{nd}$ PSA pressure ($P_{h,2}$)',fontsize = 13)\n",
        "ax1.set_title('Energy Consumption of PSA (J / mol)',fontsize = 18)\n",
        "## x and y axis\n",
        "ax1.set_xlim(4.5,12.5)\n",
        "ax1.set_ylim(4.5,12.5)\n",
        "ax1.set_xticks([5,6,7,8,9,10,11,12])\n",
        "ax1.set_yticks([5,6,7,8,9,10,11,12])\n",
        "fig1.show()\n",
        "os.chdir(bas_path)\n",
        "fig1.savefig('E_dualPSA.png')"
      ],
      "execution_count": null,
      "outputs": [
        {
          "output_type": "display_data",
          "data": {
            "image/png": "[encoded data removed]",
            "text/plain": [
              "<Figure size 540x432 with 2 Axes>"
            ]
          },
          "metadata": {
            "tags": [],
            "needs_background": "light"
          }
        }
      ]
    },
    {
      "cell_type": "markdown",
      "metadata": {
        "id": "3XqY0JiSm3LC",
        "colab_type": "text"
      },
      "source": [
        "## [6-4] Contour: Recovery"
      ]
    },
    {
      "cell_type": "code",
      "metadata": {
        "id": "TVQUVl8Tm27f",
        "colab_type": "code",
        "colab": {
          "base_uri": "https://localhost:8080/",
          "height": 415
        },
        "outputId": "5e5ca07c-f166-45be-c2b0-cd28b0087aa9"
      },
      "source": [
        "fig2,ax2 = plt.subplots(figsize = [7.5,6])\n",
        "ctr2 = ax2.contour(Ph1_arr,Ph2_arr,Rec_res_arr,levels = 25,cmap=\"PuRd\")\n",
        "#ctr2 = ax2.contour(Ph1_arr,Ph2_arr,Rec_res_arr,levels = 25,colors= 'k')\n",
        "fig2.colorbar(ctr2,ax = ax2)\n",
        "ax2.plot(p1_sort, p2_sort,'b-.',lw = 2.8 )\n",
        "ax2.clabel(ctr2)\n",
        "ax2.text(8.5,5.50,'Recovery = 70%',\n",
        "         fontdict = {'size':11.5,'color': 'blue','weight':'bold'})\n",
        "ax2.set_xlabel('$1_{st}$ PSA pressure ($P_{h,1}$)',fontsize = 13)\n",
        "ax2.set_ylabel('$2_{nd}$ PSA pressure ($P_{h,2}$)',fontsize = 13)\n",
        "ax2.set_title('Methane Recovery of PSA (%)',fontsize = 18)\n",
        "## x and y axis\n",
        "ax2.set_xlim(4.5,12.5)\n",
        "ax2.set_ylim(4.5,12.5)\n",
        "ax2.set_xticks([5,6,7,8,9,10,11,12])\n",
        "ax2.set_yticks([5,6,7,8,9,10,11,12])\n",
        "fig2.show()\n",
        "os.chdir(bas_path)\n",
        "fig2.savefig('Rec_dualPSA.png')"
      ],
      "execution_count": null,
      "outputs": [
        {
          "output_type": "display_data",
          "data": {
            "image/png": "[encoded data removed]",
            "text/plain": [
              "<Figure size 540x432 with 2 Axes>"
            ]
          },
          "metadata": {
            "tags": [],
            "needs_background": "light"
          }
        }
      ]
    }
  ]
}